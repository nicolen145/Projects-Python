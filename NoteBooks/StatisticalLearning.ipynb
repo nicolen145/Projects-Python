import numpy as np

# Passive Learning Algorithm
def passive_learning(n_samples, threshold):
    samples = np.random.randint(-1000, 1001, size=n_samples)
    labels = (samples >= threshold).astype(int)
    labeled_0 = samples[labels == 0]
    labeled_1 = samples[labels == 1]

    if len(labeled_0) == 0 or len(labeled_1) == 0:
        return None  # Insufficient data

    x0 = np.max(labeled_0)
    x1 = np.min(labeled_1)
    return (x0 + x1) / 2


# Active Learning Algorithm
def active_learning(max_iterations, threshold, range_min=-1000, range_max=1000):
    for _ in range(max_iterations):
        query = (range_min + range_max) // 2
        label = 0 if query < threshold else 1
        if label == 0:
            range_min = query + 1
        else:
            range_max = query - 1
        if range_max - range_min <= 1:  # Stopping criterion
            break
    return (range_min + range_max) / 2
